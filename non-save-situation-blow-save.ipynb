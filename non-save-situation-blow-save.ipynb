{
 "cells": [
  {
   "attachments": {},
   "cell_type": "markdown",
   "metadata": {},
   "source": [
    "## 參考文獻\n",
    "1. ERA 在不同年代的變化\n",
    "   1. https://thesportjournal.org/article/eras-of-era/\n",
    "2. 決定要使用 2006 年以後的資料，因為這之後才有 PITCHf/x 資料\n",
    "   1. https://en.wikipedia.org/wiki/PITCHf/x"
   ]
  },
  {
   "cell_type": "code",
   "execution_count": 1,
   "metadata": {},
   "outputs": [
    {
     "name": "stdout",
     "output_type": "stream",
     "text": [
      "start_dt 2023-04-27\n",
      "end_dt 2023-04-28\n",
      "Warning: no date range supplied, assuming yesterday's date.\n",
      "This is a large query, it may take a moment to complete\n"
     ]
    },
    {
     "name": "stderr",
     "output_type": "stream",
     "text": [
      "100%|██████████| 2/2 [00:01<00:00,  1.57it/s]\n"
     ]
    }
   ],
   "source": [
    "from pybaseball import statcast\n",
    "import pandas as pd\n",
    "\n",
    "data = statcast()\n",
    "\n",
    "# Save the data to a CSV file\n",
    "data.to_csv(\"statcast_data.csv\", index=False)\n",
    "\n",
    "# Read the data from the CSV file\n",
    "data_from_csv = pd.read_csv(\"statcast_data.csv\")\n"
   ]
  },
  {
   "cell_type": "code",
   "execution_count": null,
   "metadata": {},
   "outputs": [],
   "source": []
  }
 ],
 "metadata": {
  "kernelspec": {
   "display_name": "data-science",
   "language": "python",
   "name": "python3"
  },
  "language_info": {
   "codemirror_mode": {
    "name": "ipython",
    "version": 3
   },
   "file_extension": ".py",
   "mimetype": "text/x-python",
   "name": "python",
   "nbconvert_exporter": "python",
   "pygments_lexer": "ipython3",
   "version": "3.8.16"
  },
  "orig_nbformat": 4
 },
 "nbformat": 4,
 "nbformat_minor": 2
}
